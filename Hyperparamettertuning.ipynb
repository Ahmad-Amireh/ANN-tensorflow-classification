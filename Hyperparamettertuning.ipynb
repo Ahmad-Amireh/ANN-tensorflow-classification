{
 "cells": [
  {
   "cell_type": "markdown",
   "metadata": {},
   "source": [
    "### Determing  the optimal # of hidden layers and neurons for an ANN .\n",
    "\n",
    "This can be challenging and often requires experimentaion. Howeve are some guidelines and methods that can help you in making an informed decision :\n",
    "- Start Simple \" Begin with a simple Arch and gradually increase complexity if needed \" \n",
    "- GridSearch/Random Search : Use grid search or random search to try diff arch. \n",
    "- Cross Validation : to evaluate performance of diff arch . \n",
    "- Heuristics and Rules of Thumb : Some heuristic and emperical rules can provide starting point, such as : \n",
    "    - The number of neurons in the hidden layer should be between the size of the input layer and the size of the output layer . \n",
    "    - Common preactice is to start with 1-2 hidden layers. \n",
    "\n",
    "\n"
   ]
  },
  {
   "cell_type": "code",
   "execution_count": 1,
   "metadata": {},
   "outputs": [],
   "source": [
    "import pandas as pd \n",
    "from sklearn.model_selection import train_test_split, GridSearchCV \n",
    "from sklearn.preprocessing import StandardScaler, LabelEncoder, OneHotEncoder \n",
    "from sklearn.pipeline import Pipeline \n",
    "from scikeras.wrappers import KerasClassifier, KerasRegressor\n",
    "import tensorflow as tf \n",
    "from tensorflow.keras.models import Sequential\n",
    "from tensorflow.keras.layers import Dense \n",
    "from tensorflow.keras.callbacks import EarlyStopping \n",
    "import pickle\n"
   ]
  },
  {
   "cell_type": "code",
   "execution_count": 2,
   "metadata": {},
   "outputs": [],
   "source": [
    "data =pd.read_csv(\"Churn_Modelling.csv\")\n",
    "data = data.drop([\"RowNumber\", \"CustomerId\",\"Surname\"], axis=1)\n",
    "\n",
    "label_rncoder_gender = LabelEncoder()\n",
    "data[\"Gender\"] = label_rncoder_gender.fit_transform(data[\"Gender\"])\n",
    "\n",
    "onehot_encoder_geo = OneHotEncoder(handle_unknown=\"ignore\")\n",
    "geo_encoded = onehot_encoder_geo.fit_transform(data[[\"Geography\"]]).toarray()\n",
    "geo_encoded_df = pd.DataFrame(geo_encoded, columns=onehot_encoder_geo.get_feature_names_out([\"Geography\"]))\n",
    "\n",
    "data = pd.concat([data.drop(\"Geography\", axis=1), geo_encoded_df], axis=1)\n",
    "X = data.drop(\"Exited\", axis=1)\n",
    "y= data[\"Exited\"]\n",
    "\n",
    "X_train, X_test, y_train, y_test = train_test_split(X, y, test_size=0.2, random_state=42)\n",
    "\n",
    "scaler = StandardScaler()\n",
    "X_train = scaler.fit_transform(X_train)\n",
    "X_test = scaler.transform(X_test)"
   ]
  },
  {
   "cell_type": "code",
   "execution_count": 3,
   "metadata": {},
   "outputs": [],
   "source": [
    "## Define a fuction to create the model and try diff parameters (KerasClassifier)\n",
    "\n",
    "def create_model(neurons=32, layers= 1, optimizer =\"adam\"):\n",
    "    model = Sequential()\n",
    "    model.add(Dense(neurons, activation=\"relu\", input_shape=(X_test.shape[1],)))\n",
    "\n",
    "    for _ in range(layers-1):\n",
    "        model.add(Dense(neurons,activation=\"relu\"))\n",
    "\n",
    "    model.add(Dense(1,activation=\"sigmoid\"))\n",
    "    model.compile(loss='binary_crossentropy', optimizer=optimizer, metrics=['accuracy'])\n",
    "    return model"
   ]
  },
  {
   "cell_type": "code",
   "execution_count": null,
   "metadata": {},
   "outputs": [
    {
     "name": "stdout",
     "output_type": "stream",
     "text": [
      "Fitting 3 folds for each of 16 candidates, totalling 48 fits\n"
     ]
    }
   ],
   "source": [
    "#Create a Keras Classifier \n",
    "\n",
    "model = KerasClassifier(build_fn=create_model,neurons=32, layers= 1,verbose=1, epochs=50, batch_size=10)\n",
    "# Define the grid search parameters \n",
    "param_grid = {\n",
    "    \"neurons\": [16, 32,  64, 128],\n",
    "    \"layers\": [1,2],\n",
    "    \"epochs\": [50, 100] }\n",
    "grid = GridSearchCV(estimator=model, param_grid=param_grid, n_jobs=-1, cv=3,verbose=2)\n",
    "grid_result = grid.fit(X_train, y_train)\n",
    "\n",
    "print(\"Best: %f using %s\" % (grid_result.best_score_, grid_result.best_params_))"
   ]
  },
  {
   "cell_type": "code",
   "execution_count": null,
   "metadata": {},
   "outputs": [],
   "source": []
  }
 ],
 "metadata": {
  "kernelspec": {
   "display_name": "Python 3",
   "language": "python",
   "name": "python3"
  },
  "language_info": {
   "codemirror_mode": {
    "name": "ipython",
    "version": 3
   },
   "file_extension": ".py",
   "mimetype": "text/x-python",
   "name": "python",
   "nbconvert_exporter": "python",
   "pygments_lexer": "ipython3",
   "version": "3.12.9"
  }
 },
 "nbformat": 4,
 "nbformat_minor": 2
}
